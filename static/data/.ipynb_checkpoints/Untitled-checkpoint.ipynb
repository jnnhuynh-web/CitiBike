{
 "cells": [
  {
   "cell_type": "markdown",
   "metadata": {},
   "source": [
    "## NYC"
   ]
  },
  {
   "cell_type": "code",
   "execution_count": 50,
   "metadata": {},
   "outputs": [],
   "source": [
    "# import dependencies\n",
    "import json\n",
    "import os\n",
    "import pandas as pd\n",
    "import matplotlib.pyplot as mat\n",
    "import requests\n",
    "import seaborn as sns"
   ]
  },
  {
   "cell_type": "code",
   "execution_count": 51,
   "metadata": {},
   "outputs": [
    {
     "name": "stdout",
     "output_type": "stream",
     "text": [
      "<Response [200]>\n"
     ]
    }
   ],
   "source": [
    "url_NYC = \"https://gbfs.citibikenyc.com/gbfs/en/station_information.json\"\n",
    "r_NYC = requests.get(url_NYC)\n",
    "print(r_NYC)"
   ]
  },
  {
   "cell_type": "code",
   "execution_count": 61,
   "metadata": {
    "scrolled": true
   },
   "outputs": [
    {
     "data": {
      "text/html": [
       "<div>\n",
       "<style scoped>\n",
       "    .dataframe tbody tr th:only-of-type {\n",
       "        vertical-align: middle;\n",
       "    }\n",
       "\n",
       "    .dataframe tbody tr th {\n",
       "        vertical-align: top;\n",
       "    }\n",
       "\n",
       "    .dataframe thead th {\n",
       "        text-align: right;\n",
       "    }\n",
       "</style>\n",
       "<table border=\"1\" class=\"dataframe\">\n",
       "  <thead>\n",
       "    <tr style=\"text-align: right;\">\n",
       "      <th></th>\n",
       "      <th>station_id</th>\n",
       "      <th>name</th>\n",
       "      <th>lat</th>\n",
       "      <th>lon</th>\n",
       "      <th>rental_methods</th>\n",
       "      <th>capacity</th>\n",
       "    </tr>\n",
       "  </thead>\n",
       "  <tbody>\n",
       "    <tr>\n",
       "      <th>0</th>\n",
       "      <td>304</td>\n",
       "      <td>Broadway &amp; Battery Pl</td>\n",
       "      <td>40.704633</td>\n",
       "      <td>-74.013617</td>\n",
       "      <td>[KEY, CREDITCARD]</td>\n",
       "      <td>33</td>\n",
       "    </tr>\n",
       "    <tr>\n",
       "      <th>1</th>\n",
       "      <td>359</td>\n",
       "      <td>E 47 St &amp; Park Ave</td>\n",
       "      <td>40.755103</td>\n",
       "      <td>-73.974987</td>\n",
       "      <td>[KEY, CREDITCARD]</td>\n",
       "      <td>64</td>\n",
       "    </tr>\n",
       "    <tr>\n",
       "      <th>2</th>\n",
       "      <td>367</td>\n",
       "      <td>E 53 St &amp; Lexington Ave</td>\n",
       "      <td>40.758281</td>\n",
       "      <td>-73.970694</td>\n",
       "      <td>[KEY, CREDITCARD]</td>\n",
       "      <td>34</td>\n",
       "    </tr>\n",
       "    <tr>\n",
       "      <th>3</th>\n",
       "      <td>402</td>\n",
       "      <td>Broadway &amp; E 22 St</td>\n",
       "      <td>40.740343</td>\n",
       "      <td>-73.989551</td>\n",
       "      <td>[KEY, CREDITCARD]</td>\n",
       "      <td>39</td>\n",
       "    </tr>\n",
       "    <tr>\n",
       "      <th>4</th>\n",
       "      <td>3255</td>\n",
       "      <td>8 Ave &amp; W 31 St</td>\n",
       "      <td>40.750585</td>\n",
       "      <td>-73.994685</td>\n",
       "      <td>[KEY, CREDITCARD]</td>\n",
       "      <td>19</td>\n",
       "    </tr>\n",
       "  </tbody>\n",
       "</table>\n",
       "</div>"
      ],
      "text/plain": [
       "  station_id                     name        lat        lon  \\\n",
       "0        304    Broadway & Battery Pl  40.704633 -74.013617   \n",
       "1        359       E 47 St & Park Ave  40.755103 -73.974987   \n",
       "2        367  E 53 St & Lexington Ave  40.758281 -73.970694   \n",
       "3        402       Broadway & E 22 St  40.740343 -73.989551   \n",
       "4       3255          8 Ave & W 31 St  40.750585 -73.994685   \n",
       "\n",
       "      rental_methods  capacity  \n",
       "0  [KEY, CREDITCARD]        33  \n",
       "1  [KEY, CREDITCARD]        64  \n",
       "2  [KEY, CREDITCARD]        34  \n",
       "3  [KEY, CREDITCARD]        39  \n",
       "4  [KEY, CREDITCARD]        19  "
      ]
     },
     "execution_count": 61,
     "metadata": {},
     "output_type": "execute_result"
    }
   ],
   "source": [
    "NYC_stations_pd = pd.DataFrame(json.loads(r_NYC.content)['data']['stations'])[['station_id', 'name', 'lat', 'lon', 'rental_methods', 'capacity']]\n",
    "NYC_stations_pd.head()"
   ]
  },
  {
   "cell_type": "code",
   "execution_count": 53,
   "metadata": {
    "scrolled": true
   },
   "outputs": [
    {
     "data": {
      "text/plain": [
       "count    935.000000\n",
       "mean      31.445989\n",
       "std       12.090001\n",
       "min        0.000000\n",
       "25%       23.000000\n",
       "50%       28.000000\n",
       "75%       39.000000\n",
       "max       79.000000\n",
       "Name: capacity, dtype: float64"
      ]
     },
     "execution_count": 53,
     "metadata": {},
     "output_type": "execute_result"
    }
   ],
   "source": [
    "NYC_stations_pd['capacity'].describe()"
   ]
  },
  {
   "cell_type": "code",
   "execution_count": 54,
   "metadata": {},
   "outputs": [
    {
     "data": {
      "text/plain": [
       "station_id        935\n",
       "name              935\n",
       "lat               935\n",
       "lon               935\n",
       "rental_methods    935\n",
       "capacity          935\n",
       "dtype: int64"
      ]
     },
     "execution_count": 54,
     "metadata": {},
     "output_type": "execute_result"
    }
   ],
   "source": [
    "NYC_stations_pd.count()"
   ]
  },
  {
   "cell_type": "code",
   "execution_count": 55,
   "metadata": {},
   "outputs": [
    {
     "data": {
      "text/plain": [
       "29402"
      ]
     },
     "execution_count": 55,
     "metadata": {},
     "output_type": "execute_result"
    }
   ],
   "source": [
    "total_num_bikes_NYC = NYC_stations_pd['capacity'].sum()\n",
    "total_num_bikes_NYC"
   ]
  },
  {
   "cell_type": "code",
   "execution_count": 56,
   "metadata": {},
   "outputs": [
    {
     "data": {
      "text/plain": [
       "935"
      ]
     },
     "execution_count": 56,
     "metadata": {},
     "output_type": "execute_result"
    }
   ],
   "source": [
    "total_num_stations_NYC = NYC_stations_pd['name'].count()\n",
    "total_num_stations_NYC"
   ]
  },
  {
   "cell_type": "markdown",
   "metadata": {},
   "source": [
    "## Toronto"
   ]
  },
  {
   "cell_type": "code",
   "execution_count": 62,
   "metadata": {},
   "outputs": [
    {
     "name": "stdout",
     "output_type": "stream",
     "text": [
      "<Response [200]>\n"
     ]
    }
   ],
   "source": [
    "url_Toronto = \"https://tor.publicbikesystem.net/ube/gbfs/v1/en/station_information\"\n",
    "r_Toronto = requests.get(url_Toronto)\n",
    "print(r_Toronto)"
   ]
  },
  {
   "cell_type": "code",
   "execution_count": 63,
   "metadata": {},
   "outputs": [
    {
     "data": {
      "text/html": [
       "<div>\n",
       "<style scoped>\n",
       "    .dataframe tbody tr th:only-of-type {\n",
       "        vertical-align: middle;\n",
       "    }\n",
       "\n",
       "    .dataframe tbody tr th {\n",
       "        vertical-align: top;\n",
       "    }\n",
       "\n",
       "    .dataframe thead th {\n",
       "        text-align: right;\n",
       "    }\n",
       "</style>\n",
       "<table border=\"1\" class=\"dataframe\">\n",
       "  <thead>\n",
       "    <tr style=\"text-align: right;\">\n",
       "      <th></th>\n",
       "      <th>station_id</th>\n",
       "      <th>name</th>\n",
       "      <th>lat</th>\n",
       "      <th>lon</th>\n",
       "      <th>rental_methods</th>\n",
       "      <th>capacity</th>\n",
       "    </tr>\n",
       "  </thead>\n",
       "  <tbody>\n",
       "    <tr>\n",
       "      <th>0</th>\n",
       "      <td>7000</td>\n",
       "      <td>Fort York  Blvd / Capreol Ct</td>\n",
       "      <td>43.639832</td>\n",
       "      <td>-79.395954</td>\n",
       "      <td>[KEY, CREDITCARD, TRANSITCARD, PHONE]</td>\n",
       "      <td>35</td>\n",
       "    </tr>\n",
       "    <tr>\n",
       "      <th>1</th>\n",
       "      <td>7001</td>\n",
       "      <td>Lower Jarvis St / The Esplanade</td>\n",
       "      <td>43.647992</td>\n",
       "      <td>-79.370907</td>\n",
       "      <td>[KEY, CREDITCARD, TRANSITCARD, PHONE]</td>\n",
       "      <td>15</td>\n",
       "    </tr>\n",
       "    <tr>\n",
       "      <th>2</th>\n",
       "      <td>7002</td>\n",
       "      <td>St. George St / Bloor St W</td>\n",
       "      <td>43.667333</td>\n",
       "      <td>-79.399429</td>\n",
       "      <td>[KEY, CREDITCARD, TRANSITCARD, PHONE]</td>\n",
       "      <td>19</td>\n",
       "    </tr>\n",
       "    <tr>\n",
       "      <th>3</th>\n",
       "      <td>7003</td>\n",
       "      <td>Madison Ave / Bloor St W</td>\n",
       "      <td>43.667158</td>\n",
       "      <td>-79.402761</td>\n",
       "      <td>[KEY, CREDITCARD, TRANSITCARD, PHONE]</td>\n",
       "      <td>15</td>\n",
       "    </tr>\n",
       "    <tr>\n",
       "      <th>4</th>\n",
       "      <td>7004</td>\n",
       "      <td>University Ave / Elm St</td>\n",
       "      <td>43.656518</td>\n",
       "      <td>-79.389099</td>\n",
       "      <td>[KEY, CREDITCARD, TRANSITCARD, PHONE]</td>\n",
       "      <td>11</td>\n",
       "    </tr>\n",
       "  </tbody>\n",
       "</table>\n",
       "</div>"
      ],
      "text/plain": [
       "  station_id                             name        lat        lon  \\\n",
       "0       7000     Fort York  Blvd / Capreol Ct  43.639832 -79.395954   \n",
       "1       7001  Lower Jarvis St / The Esplanade  43.647992 -79.370907   \n",
       "2       7002       St. George St / Bloor St W  43.667333 -79.399429   \n",
       "3       7003         Madison Ave / Bloor St W  43.667158 -79.402761   \n",
       "4       7004          University Ave / Elm St  43.656518 -79.389099   \n",
       "\n",
       "                          rental_methods  capacity  \n",
       "0  [KEY, CREDITCARD, TRANSITCARD, PHONE]        35  \n",
       "1  [KEY, CREDITCARD, TRANSITCARD, PHONE]        15  \n",
       "2  [KEY, CREDITCARD, TRANSITCARD, PHONE]        19  \n",
       "3  [KEY, CREDITCARD, TRANSITCARD, PHONE]        15  \n",
       "4  [KEY, CREDITCARD, TRANSITCARD, PHONE]        11  "
      ]
     },
     "execution_count": 63,
     "metadata": {},
     "output_type": "execute_result"
    }
   ],
   "source": [
    "Toronto_stations_pd = pd.DataFrame(json.loads(r_Toronto.content)['data']['stations'])[['station_id', 'name', 'lat', 'lon', 'rental_methods', 'capacity']]\n",
    "Toronto_stations_pd.head()"
   ]
  },
  {
   "cell_type": "code",
   "execution_count": 64,
   "metadata": {},
   "outputs": [
    {
     "data": {
      "text/plain": [
       "count    463.000000\n",
       "mean      18.099352\n",
       "std        5.837895\n",
       "min        8.000000\n",
       "25%       15.000000\n",
       "50%       17.000000\n",
       "75%       20.000000\n",
       "max       50.000000\n",
       "Name: capacity, dtype: float64"
      ]
     },
     "execution_count": 64,
     "metadata": {},
     "output_type": "execute_result"
    }
   ],
   "source": [
    "Toronto_stations_pd['capacity'].describe()"
   ]
  },
  {
   "cell_type": "code",
   "execution_count": 65,
   "metadata": {},
   "outputs": [
    {
     "data": {
      "text/plain": [
       "station_id        463\n",
       "name              463\n",
       "lat               463\n",
       "lon               463\n",
       "rental_methods    463\n",
       "capacity          463\n",
       "dtype: int64"
      ]
     },
     "execution_count": 65,
     "metadata": {},
     "output_type": "execute_result"
    }
   ],
   "source": [
    "Toronto_stations_pd.count()"
   ]
  },
  {
   "cell_type": "code",
   "execution_count": 66,
   "metadata": {},
   "outputs": [
    {
     "data": {
      "text/plain": [
       "8380"
      ]
     },
     "execution_count": 66,
     "metadata": {},
     "output_type": "execute_result"
    }
   ],
   "source": [
    "total_num_bikes_Toronto = Toronto_stations_pd['capacity'].sum()\n",
    "total_num_bikes_Toronto"
   ]
  },
  {
   "cell_type": "code",
   "execution_count": 67,
   "metadata": {},
   "outputs": [
    {
     "data": {
      "text/plain": [
       "463"
      ]
     },
     "execution_count": 67,
     "metadata": {},
     "output_type": "execute_result"
    }
   ],
   "source": [
    "total_num_stations_Toronto = Toronto_stations_pd['name'].count()\n",
    "total_num_stations_Toronto"
   ]
  }
 ],
 "metadata": {
  "kernelspec": {
   "display_name": "Python 3",
   "language": "python",
   "name": "python3"
  },
  "language_info": {
   "codemirror_mode": {
    "name": "ipython",
    "version": 3
   },
   "file_extension": ".py",
   "mimetype": "text/x-python",
   "name": "python",
   "nbconvert_exporter": "python",
   "pygments_lexer": "ipython3",
   "version": "3.7.3"
  }
 },
 "nbformat": 4,
 "nbformat_minor": 2
}
